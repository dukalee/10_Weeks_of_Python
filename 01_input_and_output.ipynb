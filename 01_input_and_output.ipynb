{
  "nbformat": 4,
  "nbformat_minor": 0,
  "metadata": {
    "colab": {
      "name": "01.input_and_output.ipynb",
      "provenance": [],
      "collapsed_sections": [],
      "toc_visible": true,
      "authorship_tag": "ABX9TyNO51d2ra+/O+GHUpwk+y1O",
      "include_colab_link": true
    },
    "kernelspec": {
      "name": "python3",
      "display_name": "Python 3"
    },
    "language_info": {
      "name": "python"
    }
  },
  "cells": [
    {
      "cell_type": "markdown",
      "metadata": {
        "id": "view-in-github",
        "colab_type": "text"
      },
      "source": [
        "<a href=\"https://colab.research.google.com/github/dukalee/python/blob/main/01_input_and_output.ipynb\" target=\"_parent\"><img src=\"https://colab.research.google.com/assets/colab-badge.svg\" alt=\"Open In Colab\"/></a>"
      ]
    },
    {
      "cell_type": "markdown",
      "metadata": {
        "id": "uYT0TZ3fHp6X"
      },
      "source": [
        "### print()\n",
        "---\n",
        "* print() 명령어를 활용하여 파이썬 Console에서 원하는 문장, 또는 값을 출력할 수 있습니다."
      ]
    },
    {
      "cell_type": "code",
      "metadata": {
        "colab": {
          "base_uri": "https://localhost:8080/"
        },
        "id": "f6fWv0jbHc9t",
        "outputId": "1755f58e-b9ca-4161-8e94-a1dfbdca37d7"
      },
      "source": [
        "print(\"Hello, World!\")"
      ],
      "execution_count": null,
      "outputs": [
        {
          "output_type": "stream",
          "name": "stdout",
          "text": [
            "Hello World!\n"
          ]
        }
      ]
    },
    {
      "cell_type": "markdown",
      "metadata": {
        "id": "Y7058pDDH3OI"
      },
      "source": [
        "* 문자열의 경우 홀따옴표('') 또는 쌍따옴표(\"\")로 감싸준 채로 출력합니다.\n",
        "* 하나의 print() 명령어의 끝에는 줄바꿈(newline, \"\\n\")이 자동으로 포함됩니다."
      ]
    },
    {
      "cell_type": "code",
      "metadata": {
        "colab": {
          "base_uri": "https://localhost:8080/"
        },
        "id": "0QAZMinqH-ep",
        "outputId": "c8153bbf-8a0d-4aaf-8688-8af2434ff2ff"
      },
      "source": [
        "print(\"Double Quotes\")\n",
        "print('Single Quotes')"
      ],
      "execution_count": null,
      "outputs": [
        {
          "output_type": "stream",
          "name": "stdout",
          "text": [
            "Double Quotes\n",
            "Single Quotes\n"
          ]
        }
      ]
    },
    {
      "cell_type": "markdown",
      "metadata": {
        "id": "CSb-27b_IFDD"
      },
      "source": [
        "* 숫자는 쌍따옴표, 홀따옴표 없이 출력할 수 있습니다."
      ]
    },
    {
      "cell_type": "code",
      "metadata": {
        "colab": {
          "base_uri": "https://localhost:8080/"
        },
        "id": "TUCrk7HrIJBD",
        "outputId": "8097de26-6016-4686-eafc-f414be860329"
      },
      "source": [
        "print(3)\n",
        "print(1.234)"
      ],
      "execution_count": null,
      "outputs": [
        {
          "output_type": "stream",
          "name": "stdout",
          "text": [
            "3\n",
            "1.234\n"
          ]
        }
      ]
    },
    {
      "cell_type": "markdown",
      "metadata": {
        "id": "V2YGZKqcIf3w"
      },
      "source": [
        "#### Concatenation"
      ]
    },
    {
      "cell_type": "markdown",
      "metadata": {
        "id": "qSEEhI2J5fDp"
      },
      "source": [
        "* 문자열은 연속해서 print() 명령어 안에 주어주면, 자동으로 결합됩니다.\n",
        "* 문자열 사이에 + 연산으로 결합해줄 수도 있습니다."
      ]
    },
    {
      "cell_type": "code",
      "metadata": {
        "id": "cggQF1kYOUl6",
        "colab": {
          "base_uri": "https://localhost:8080/"
        },
        "outputId": "dc384d03-99ca-4ef0-a5fe-2db5b0f71f7f"
      },
      "source": [
        "print(\"A\" \"B\"    \"C\")"
      ],
      "execution_count": null,
      "outputs": [
        {
          "output_type": "stream",
          "name": "stdout",
          "text": [
            "ABC\n"
          ]
        }
      ]
    },
    {
      "cell_type": "code",
      "metadata": {
        "colab": {
          "base_uri": "https://localhost:8080/"
        },
        "id": "YQMK3-iS5wkE",
        "outputId": "35925613-6bdb-4ceb-9548-4cce22dc0b09"
      },
      "source": [
        "print(\"A\" + \"B\" + \"C\")"
      ],
      "execution_count": null,
      "outputs": [
        {
          "output_type": "stream",
          "name": "stdout",
          "text": [
            "ABC\n"
          ]
        }
      ]
    },
    {
      "cell_type": "markdown",
      "metadata": {
        "id": "QpvgZ-pY5zBo"
      },
      "source": [
        "* 문자열과 숫자 (다른 데이터)는 결합시킬 수 없습니다. 에러가 발생합니다."
      ]
    },
    {
      "cell_type": "code",
      "metadata": {
        "colab": {
          "base_uri": "https://localhost:8080/",
          "height": 128
        },
        "id": "-wy2CMpw5yhL",
        "outputId": "6042c3a4-e3f0-4cbd-bafc-cdb09d89c5f6"
      },
      "source": [
        "print(\"A\" 1) # Syntax Error"
      ],
      "execution_count": null,
      "outputs": [
        {
          "output_type": "error",
          "ename": "SyntaxError",
          "evalue": "ignored",
          "traceback": [
            "\u001b[0;36m  File \u001b[0;32m\"<ipython-input-4-59df82bb3184>\"\u001b[0;36m, line \u001b[0;32m1\u001b[0m\n\u001b[0;31m    print(\"A\" 1)\u001b[0m\n\u001b[0m              ^\u001b[0m\n\u001b[0;31mSyntaxError\u001b[0m\u001b[0;31m:\u001b[0m invalid syntax\n"
          ]
        }
      ]
    },
    {
      "cell_type": "code",
      "metadata": {
        "colab": {
          "base_uri": "https://localhost:8080/",
          "height": 162
        },
        "id": "HTuxredE54Cy",
        "outputId": "4e9cebd7-bddc-420a-a421-3fd95b933356"
      },
      "source": [
        "print(\"A\" + 1) # Type Error"
      ],
      "execution_count": null,
      "outputs": [
        {
          "output_type": "error",
          "ename": "TypeError",
          "evalue": "ignored",
          "traceback": [
            "\u001b[0;31m---------------------------------------------------------------------------\u001b[0m",
            "\u001b[0;31mTypeError\u001b[0m                                 Traceback (most recent call last)",
            "\u001b[0;32m<ipython-input-5-b065e85741e4>\u001b[0m in \u001b[0;36m<module>\u001b[0;34m()\u001b[0m\n\u001b[0;32m----> 1\u001b[0;31m \u001b[0mprint\u001b[0m\u001b[0;34m(\u001b[0m\u001b[0;34m\"A\"\u001b[0m \u001b[0;34m+\u001b[0m \u001b[0;36m1\u001b[0m\u001b[0;34m)\u001b[0m\u001b[0;34m\u001b[0m\u001b[0;34m\u001b[0m\u001b[0m\n\u001b[0m",
            "\u001b[0;31mTypeError\u001b[0m: can only concatenate str (not \"int\") to str"
          ]
        }
      ]
    },
    {
      "cell_type": "markdown",
      "metadata": {
        "id": "AHeWXo-r598e"
      },
      "source": [
        "* 문자열과 문자열, 또는 문자열과 다른 데이터는 쉼표(,)를 활용하여 결합할 수 있습니다.\n",
        "* 단, 결합 시 데이터 사이에 공백(whitespace, 스페이스)가 생깁니다."
      ]
    },
    {
      "cell_type": "code",
      "metadata": {
        "colab": {
          "base_uri": "https://localhost:8080/"
        },
        "id": "rIUIhzEF6I7h",
        "outputId": "e195963d-4ea8-4e33-f252-5188b7af596e"
      },
      "source": [
        "print(\"A\", 1, \"B\", 2)"
      ],
      "execution_count": null,
      "outputs": [
        {
          "output_type": "stream",
          "name": "stdout",
          "text": [
            "A 1 B 2\n"
          ]
        }
      ]
    },
    {
      "cell_type": "markdown",
      "metadata": {
        "id": "VxoNWDsk6iXI"
      },
      "source": [
        "#### Parameters"
      ]
    },
    {
      "cell_type": "markdown",
      "metadata": {
        "id": "myaaZ3MX6lHr"
      },
      "source": [
        "* print() 명령어는 자동으로 아래의 두가지 옵션이 붙습니다.\n",
        "  * <code>sep = \" \"</code> : 쉼표로 분리되는 데이터는 \" \" 로 결합합니다.\n",
        "  * <code>end = \"\\n\"</code> : print 명령어의 마지막에는 줄바꿈(newline, 엔터)를 포함합니다.\n",
        "* 위 옵션들을 바꿔주어 출력의 형태를 바꿔줄 수 있습니다.\n"
      ]
    },
    {
      "cell_type": "markdown",
      "metadata": {
        "id": "WyaLo-s07JmP"
      },
      "source": [
        "##### sep"
      ]
    },
    {
      "cell_type": "code",
      "metadata": {
        "colab": {
          "base_uri": "https://localhost:8080/"
        },
        "id": "kXtlV3Wp67Qg",
        "outputId": "b5241e2a-a6c7-4d1a-b2f8-c26b0e508c24"
      },
      "source": [
        "print(\"A\", 1, \"B\", 2, sep = \"[no more space]\")"
      ],
      "execution_count": null,
      "outputs": [
        {
          "output_type": "stream",
          "name": "stdout",
          "text": [
            "A[no more space]1[no more space]B[no more space]2\n"
          ]
        }
      ]
    },
    {
      "cell_type": "code",
      "metadata": {
        "colab": {
          "base_uri": "https://localhost:8080/"
        },
        "id": "tv_4H7Yj6-Lh",
        "outputId": "f20cd13a-e0d2-4eaf-9fa2-53e6868c3db9"
      },
      "source": [
        "print(\"A\", 1, \"B\", 2, sep = \"\")"
      ],
      "execution_count": null,
      "outputs": [
        {
          "output_type": "stream",
          "name": "stdout",
          "text": [
            "A1B2\n"
          ]
        }
      ]
    },
    {
      "cell_type": "markdown",
      "metadata": {
        "id": "fxY1y0pL7PKv"
      },
      "source": [
        "##### end"
      ]
    },
    {
      "cell_type": "code",
      "metadata": {
        "colab": {
          "base_uri": "https://localhost:8080/"
        },
        "id": "OagBDp1G7IGA",
        "outputId": "7dc1449a-11d0-40fc-bfbb-fc19e224e6c3"
      },
      "source": [
        "print(\"A\")\n",
        "print(\"B\")"
      ],
      "execution_count": null,
      "outputs": [
        {
          "output_type": "stream",
          "name": "stdout",
          "text": [
            "A\n",
            "B\n"
          ]
        }
      ]
    },
    {
      "cell_type": "code",
      "metadata": {
        "colab": {
          "base_uri": "https://localhost:8080/"
        },
        "id": "6iGnd1pi7R1a",
        "outputId": "3f388385-47f3-46ab-b2f5-27ffc279512b"
      },
      "source": [
        "print(\"A\", end = \"[no more newline]\")\n",
        "print(\"B\")"
      ],
      "execution_count": null,
      "outputs": [
        {
          "output_type": "stream",
          "name": "stdout",
          "text": [
            "A[no more newline]B\n"
          ]
        }
      ]
    },
    {
      "cell_type": "markdown",
      "metadata": {
        "id": "fAUgIyJSIddc"
      },
      "source": [
        "### input()\n",
        "---\n",
        "* input() 명령어를 이용하여 사용자 입력을 받을 수 있습니다.\n",
        "* 입력을 받은 값은 변수에 저장할 수 있습니다."
      ]
    },
    {
      "cell_type": "code",
      "metadata": {
        "id": "wt_-EayNHhSR",
        "colab": {
          "base_uri": "https://localhost:8080/"
        },
        "outputId": "e4df14db-0f82-4ce6-98e3-3190105fe8fd"
      },
      "source": [
        "x = input()"
      ],
      "execution_count": null,
      "outputs": [
        {
          "name": "stdout",
          "output_type": "stream",
          "text": [
            "user input\n"
          ]
        }
      ]
    },
    {
      "cell_type": "code",
      "metadata": {
        "colab": {
          "base_uri": "https://localhost:8080/"
        },
        "id": "iMfRraIxA0WC",
        "outputId": "3a31620e-c3b7-4391-cb80-368e43ef2e68"
      },
      "source": [
        "print(x)"
      ],
      "execution_count": null,
      "outputs": [
        {
          "output_type": "stream",
          "name": "stdout",
          "text": [
            "user input\n"
          ]
        }
      ]
    },
    {
      "cell_type": "markdown",
      "metadata": {
        "id": "j8N_hgg6A99c"
      },
      "source": [
        "* input()의 괄호 안에 특정 문구를 넣어 input prompt를 출력할 수 있습니다."
      ]
    },
    {
      "cell_type": "code",
      "metadata": {
        "colab": {
          "base_uri": "https://localhost:8080/"
        },
        "id": "PI8X9LMWA316",
        "outputId": "eb2305a1-6aa7-444a-f7d7-ea3a0d539ef6"
      },
      "source": [
        "x = input(\"Enter a number : \")\n",
        "print(x)"
      ],
      "execution_count": null,
      "outputs": [
        {
          "output_type": "stream",
          "name": "stdout",
          "text": [
            "Enter a number : 13\n",
            "13\n"
          ]
        }
      ]
    },
    {
      "cell_type": "markdown",
      "metadata": {
        "id": "IcfSYDB8BJpg"
      },
      "source": [
        "* input()으로 입력받은 모든 값은 문자열의 형태로 저장됩니다.\n",
        "  * type() 명령어로 데이터가 어떤 형의 데이터인지 확인할 수 있습니다."
      ]
    },
    {
      "cell_type": "code",
      "metadata": {
        "colab": {
          "base_uri": "https://localhost:8080/"
        },
        "id": "TalcgPSOBRq3",
        "outputId": "63699d39-2090-4c9f-86c0-3ab787ca56aa"
      },
      "source": [
        "x = input()\n",
        "print(type(x))"
      ],
      "execution_count": null,
      "outputs": [
        {
          "output_type": "stream",
          "name": "stdout",
          "text": [
            "1234\n",
            "<class 'str'>\n"
          ]
        }
      ]
    },
    {
      "cell_type": "code",
      "metadata": {
        "colab": {
          "base_uri": "https://localhost:8080/"
        },
        "id": "Vz4G_slWBFj2",
        "outputId": "e35db9bb-c0c5-40f7-cf32-069d32a45ee3"
      },
      "source": [
        "x = input(\"Enter a number : \")\n",
        "y = input(\"Enter another number : \")\n",
        "print(x + y)"
      ],
      "execution_count": null,
      "outputs": [
        {
          "output_type": "stream",
          "name": "stdout",
          "text": [
            "Enter a number : 12\n",
            "Enter another number : 34\n",
            "1234\n"
          ]
        }
      ]
    },
    {
      "cell_type": "markdown",
      "metadata": {
        "id": "1Ar0K6ukBdpq"
      },
      "source": [
        "#### Type Casting\n",
        "* 데이터의 형태를 특정 명령어들을 통해 변환시킬 수 있습니다.\n",
        "  * <code>str(data)</code> : data를 문자열로 변환시킵니다.\n",
        "  * <code>int(data)</code> : data를 정수(integer)로 변환시킵니다.\n",
        "  * <code>float(data)</code> : data를 실수(float)로 변환시킵니다.\n"
      ]
    },
    {
      "cell_type": "markdown",
      "metadata": {
        "id": "j3MpIqg5CBaA"
      },
      "source": [
        "##### str\n",
        "* str()은 모든 데이터를 문자열의 형태로 변환이 가능합니다."
      ]
    },
    {
      "cell_type": "code",
      "metadata": {
        "colab": {
          "base_uri": "https://localhost:8080/"
        },
        "id": "w101-lr0CGeq",
        "outputId": "23cdb1ba-92e1-48ea-eded-c10e457feb4c"
      },
      "source": [
        "a = 12\n",
        "b = 3.456\n",
        "print (a + b)"
      ],
      "execution_count": null,
      "outputs": [
        {
          "output_type": "stream",
          "name": "stdout",
          "text": [
            "15.456\n"
          ]
        }
      ]
    },
    {
      "cell_type": "code",
      "metadata": {
        "colab": {
          "base_uri": "https://localhost:8080/"
        },
        "id": "mxksHhWdC-Pj",
        "outputId": "e60be79f-6512-4dd5-ce8d-4bd4a1aa2883"
      },
      "source": [
        "print(str(a) + str(b))"
      ],
      "execution_count": null,
      "outputs": [
        {
          "output_type": "stream",
          "name": "stdout",
          "text": [
            "11.23.4\n"
          ]
        }
      ]
    },
    {
      "cell_type": "markdown",
      "metadata": {
        "id": "1N8ZBtnGBhMQ"
      },
      "source": [
        "##### int\n",
        "* int()는 숫자(digit)으로만 구성된 문자열을 정수형으로 변환이 가능합니다.\n",
        "* 실수(float)의 경우에는 소수점을 버린 정수로 변환합니다."
      ]
    },
    {
      "cell_type": "code",
      "metadata": {
        "id": "ESPxdpSSCxlZ"
      },
      "source": [
        "a = \"1\"\n",
        "b = \"1.23\"\n",
        "c = 1.23\n",
        "d = 1.99"
      ],
      "execution_count": null,
      "outputs": []
    },
    {
      "cell_type": "code",
      "metadata": {
        "colab": {
          "base_uri": "https://localhost:8080/"
        },
        "id": "-2wCdr4wC_Z8",
        "outputId": "ae8e36b5-12cb-499f-a60e-a773e81db0b6"
      },
      "source": [
        "print(int(a))"
      ],
      "execution_count": null,
      "outputs": [
        {
          "output_type": "stream",
          "name": "stdout",
          "text": [
            "1\n"
          ]
        }
      ]
    },
    {
      "cell_type": "code",
      "metadata": {
        "colab": {
          "base_uri": "https://localhost:8080/",
          "height": 162
        },
        "id": "Fb2MYrZ5DBea",
        "outputId": "467c7444-7b98-403e-d843-96f68c4b0591"
      },
      "source": [
        "print(int(b)) # 변환 불가능 (숫자로만 구성되어있지 않음)"
      ],
      "execution_count": null,
      "outputs": [
        {
          "output_type": "error",
          "ename": "ValueError",
          "evalue": "ignored",
          "traceback": [
            "\u001b[0;31m---------------------------------------------------------------------------\u001b[0m",
            "\u001b[0;31mValueError\u001b[0m                                Traceback (most recent call last)",
            "\u001b[0;32m<ipython-input-48-7131e37769af>\u001b[0m in \u001b[0;36m<module>\u001b[0;34m()\u001b[0m\n\u001b[0;32m----> 1\u001b[0;31m \u001b[0mprint\u001b[0m\u001b[0;34m(\u001b[0m\u001b[0mint\u001b[0m\u001b[0;34m(\u001b[0m\u001b[0mb\u001b[0m\u001b[0;34m)\u001b[0m\u001b[0;34m)\u001b[0m \u001b[0;31m# 변환 불가능 (숫자로만 구성되어있지 않음)\u001b[0m\u001b[0;34m\u001b[0m\u001b[0;34m\u001b[0m\u001b[0m\n\u001b[0m",
            "\u001b[0;31mValueError\u001b[0m: invalid literal for int() with base 10: '1.23.4'"
          ]
        }
      ]
    },
    {
      "cell_type": "code",
      "metadata": {
        "colab": {
          "base_uri": "https://localhost:8080/"
        },
        "id": "Tfk37UT6DHLt",
        "outputId": "cff4195c-64fb-42b9-80bf-76260b7c7e2b"
      },
      "source": [
        "print(int(c))"
      ],
      "execution_count": null,
      "outputs": [
        {
          "output_type": "stream",
          "name": "stdout",
          "text": [
            "12\n"
          ]
        }
      ]
    },
    {
      "cell_type": "code",
      "metadata": {
        "colab": {
          "base_uri": "https://localhost:8080/"
        },
        "id": "VMAxLR63f2Re",
        "outputId": "b61b32aa-8951-473e-9568-89275be1795f"
      },
      "source": [
        "print(int(d))"
      ],
      "execution_count": null,
      "outputs": [
        {
          "output_type": "stream",
          "name": "stdout",
          "text": [
            "3\n"
          ]
        }
      ]
    },
    {
      "cell_type": "markdown",
      "metadata": {
        "id": "Cjh37Au6CjOf"
      },
      "source": [
        "##### float\n",
        "* float()은 숫자, 그리고/또는 . 이 하나가 포함된 문자열을 실수로 변환이 가능합니다.\n",
        "* 정수의 경우에는 .0이 붙은 실수로 변환합니다."
      ]
    },
    {
      "cell_type": "code",
      "metadata": {
        "id": "w_kR8yU_BfML"
      },
      "source": [
        "a = \"1\"\n",
        "b = \"1.23.4\"\n",
        "c = 12\n",
        "d = 3.456"
      ],
      "execution_count": null,
      "outputs": []
    },
    {
      "cell_type": "code",
      "metadata": {
        "colab": {
          "base_uri": "https://localhost:8080/"
        },
        "id": "m-YVFW7vBQM0",
        "outputId": "81b27a58-3934-4c4d-9cbc-450f91a91e86"
      },
      "source": [
        "print(float(a))"
      ],
      "execution_count": null,
      "outputs": [
        {
          "output_type": "stream",
          "name": "stdout",
          "text": [
            "1.0\n"
          ]
        }
      ]
    },
    {
      "cell_type": "code",
      "metadata": {
        "colab": {
          "base_uri": "https://localhost:8080/",
          "height": 162
        },
        "id": "a06Gw1FmgJc4",
        "outputId": "0e0e6356-95bb-494c-b4ba-859a6ca91dfc"
      },
      "source": [
        "print(float(b))"
      ],
      "execution_count": null,
      "outputs": [
        {
          "output_type": "error",
          "ename": "ValueError",
          "evalue": "ignored",
          "traceback": [
            "\u001b[0;31m---------------------------------------------------------------------------\u001b[0m",
            "\u001b[0;31mValueError\u001b[0m                                Traceback (most recent call last)",
            "\u001b[0;32m<ipython-input-53-221abe30e22d>\u001b[0m in \u001b[0;36m<module>\u001b[0;34m()\u001b[0m\n\u001b[0;32m----> 1\u001b[0;31m \u001b[0mprint\u001b[0m\u001b[0;34m(\u001b[0m\u001b[0mfloat\u001b[0m\u001b[0;34m(\u001b[0m\u001b[0mb\u001b[0m\u001b[0;34m)\u001b[0m\u001b[0;34m)\u001b[0m\u001b[0;34m\u001b[0m\u001b[0;34m\u001b[0m\u001b[0m\n\u001b[0m",
            "\u001b[0;31mValueError\u001b[0m: could not convert string to float: '1.23.4'"
          ]
        }
      ]
    },
    {
      "cell_type": "code",
      "metadata": {
        "colab": {
          "base_uri": "https://localhost:8080/"
        },
        "id": "CFA_Uc5KgK7I",
        "outputId": "97d759b9-c8b2-406e-b387-6bbde92c07ef"
      },
      "source": [
        "print(float(c))"
      ],
      "execution_count": null,
      "outputs": [
        {
          "output_type": "stream",
          "name": "stdout",
          "text": [
            "12.0\n"
          ]
        }
      ]
    },
    {
      "cell_type": "code",
      "metadata": {
        "colab": {
          "base_uri": "https://localhost:8080/"
        },
        "id": "jdq13uPKgMZx",
        "outputId": "8ced44fd-a429-41e4-96fa-7ba4b02418d8"
      },
      "source": [
        "print(float(d))"
      ],
      "execution_count": null,
      "outputs": [
        {
          "output_type": "stream",
          "name": "stdout",
          "text": [
            "3.456\n"
          ]
        }
      ]
    },
    {
      "cell_type": "markdown",
      "metadata": {
        "id": "qX8HkWBagk2H"
      },
      "source": [
        "* input()으로 받을 값 자체를 형변환 명령어로 감싸 정수 또는 실수를 입력받을 수 있습니다."
      ]
    },
    {
      "cell_type": "code",
      "metadata": {
        "colab": {
          "base_uri": "https://localhost:8080/"
        },
        "id": "YrQoDRXQgiYz",
        "outputId": "a1fd6113-6a10-4196-9c69-16bb9b8b7b55"
      },
      "source": [
        "x = int(input())\n",
        "y = int(input())\n",
        "print(x + y)"
      ],
      "execution_count": null,
      "outputs": [
        {
          "output_type": "stream",
          "name": "stdout",
          "text": [
            "12\n",
            "34\n",
            "46\n"
          ]
        }
      ]
    }
  ]
}