{
  "nbformat": 4,
  "nbformat_minor": 0,
  "metadata": {
    "kernelspec": {
      "display_name": "Python 3",
      "language": "python",
      "name": "python3"
    },
    "language_info": {
      "codemirror_mode": {
        "name": "ipython",
        "version": 3
      },
      "file_extension": ".py",
      "mimetype": "text/x-python",
      "name": "python",
      "nbconvert_exporter": "python",
      "pygments_lexer": "ipython3",
      "version": "3.6.8"
    },
    "colab": {
      "name": "01. String.ipynb",
      "provenance": [],
      "collapsed_sections": [],
      "toc_visible": true,
      "include_colab_link": true
    }
  },
  "cells": [
    {
      "cell_type": "markdown",
      "metadata": {
        "id": "view-in-github",
        "colab_type": "text"
      },
      "source": [
        "<a href=\"https://colab.research.google.com/github/dukalee/10_Weeks_of_Python/blob/main/Week_02/01_String.ipynb\" target=\"_parent\"><img src=\"https://colab.research.google.com/assets/colab-badge.svg\" alt=\"Open In Colab\"/></a>"
      ]
    },
    {
      "cell_type": "markdown",
      "metadata": {
        "id": "Q4CDOW2kGYb6"
      },
      "source": [
        "### Strings"
      ]
    },
    {
      "cell_type": "markdown",
      "metadata": {
        "id": "4cfymGe_GjUS"
      },
      "source": [
        "파이썬에서 문자열은 4가지 방법으로 표현할 수 있습니다:\n",
        "* '' (홀따옴표)\n",
        "* \"\" (쌍따옴표)\n",
        "* ''' ''' (홀따옴표 x3)\n",
        "* \"\"\" \"\"\" (쌍따옴표 x3\n",
        "\n",
        "이 중 triple quote (홀따옴표 x3, 쌍따옴표 x3)은 코드를 주석처리를 할때에도 활용이 가능합니다.\n",
        "\n",
        "파이썬에는 C와 같이 character(문자형) 데이터가 따로 존재하지 않습니다."
      ]
    },
    {
      "cell_type": "code",
      "metadata": {
        "id": "E79oG196GYcG"
      },
      "source": [
        "'''tripe quotes creates comments'''"
      ],
      "execution_count": null,
      "outputs": []
    },
    {
      "cell_type": "markdown",
      "metadata": {
        "id": "tqlpg466GzDE"
      },
      "source": [
        "변수에 저장하게 되거나 출력하게 되면 문자열 데이터로 인식하게 됩니다.\n",
        "* triple quote를 활용한 문자열은 키보드로 입력한 엔터('\\n'), 탭('\\t'), 스페이스 (' ')등이 모두 고스란히 들어간 채로 인식합니다."
      ]
    },
    {
      "cell_type": "code",
      "metadata": {
        "colab": {
          "base_uri": "https://localhost:8080/"
        },
        "id": "QPn1klLSGrEf",
        "outputId": "2e425c53-22a8-4a58-f481-b5af76688231"
      },
      "source": [
        "triple_quotes = \"\"\"enter here\n",
        "  tab here\n",
        "       spaces here\"\"\"\n",
        "\n",
        "print(triple_quotes)"
      ],
      "execution_count": 2,
      "outputs": [
        {
          "output_type": "stream",
          "name": "stdout",
          "text": [
            "enter here\n",
            "  tab here\n",
            "       spaces here\n"
          ]
        }
      ]
    },
    {
      "cell_type": "markdown",
      "metadata": {
        "id": "YclNtqukGYcO"
      },
      "source": [
        "#### String Operations\n",
        "문자열에는 2가지 연산이 가능합니다. \n",
        "- <b>+</b> : 문자열에 문자열 결합\n",
        "- <b>*</b> : 문자열을 n번 반복"
      ]
    },
    {
      "cell_type": "code",
      "metadata": {
        "colab": {
          "base_uri": "https://localhost:8080/"
        },
        "id": "V59yeGzkGYcP",
        "outputId": "f53de71a-fe44-497a-f8ae-0380a596a854"
      },
      "source": [
        "string = \"hello\"\n",
        "print(string + string)"
      ],
      "execution_count": 3,
      "outputs": [
        {
          "output_type": "stream",
          "name": "stdout",
          "text": [
            "hellohello\n"
          ]
        }
      ]
    },
    {
      "cell_type": "code",
      "metadata": {
        "colab": {
          "base_uri": "https://localhost:8080/"
        },
        "id": "QntBljWCGYcR",
        "outputId": "63ed9e93-3cb1-4a50-e240-97bb26570ed0"
      },
      "source": [
        "print(string * 3)"
      ],
      "execution_count": 4,
      "outputs": [
        {
          "output_type": "stream",
          "name": "stdout",
          "text": [
            "hellohellohello\n"
          ]
        }
      ]
    },
    {
      "cell_type": "markdown",
      "metadata": {
        "id": "FqWo-Pa8GYcW"
      },
      "source": [
        "TypeError를 발생시키는 연산은 불가능합니다."
      ]
    },
    {
      "cell_type": "code",
      "metadata": {
        "id": "PoSSX9IVGYcX",
        "outputId": "9f0d30c3-747e-4522-a63c-5ea4a1895c90"
      },
      "source": [
        "print(string + 3) # 문자열 + 정수는 불가능"
      ],
      "execution_count": null,
      "outputs": [
        {
          "ename": "TypeError",
          "evalue": "must be str, not int",
          "output_type": "error",
          "traceback": [
            "\u001b[0;31m------------------------------------------------\u001b[0m",
            "\u001b[0;31mTypeError\u001b[0m      Traceback (most recent call last)",
            "\u001b[0;32m<ipython-input-7-06eee3b3bf29>\u001b[0m in \u001b[0;36m<module>\u001b[0;34m()\u001b[0m\n\u001b[0;32m----> 1\u001b[0;31m \u001b[0mprint\u001b[0m\u001b[0;34m(\u001b[0m\u001b[0mstring\u001b[0m \u001b[0;34m+\u001b[0m \u001b[0;36m3\u001b[0m\u001b[0;34m)\u001b[0m\u001b[0;34m\u001b[0m\u001b[0;34m\u001b[0m\u001b[0m\n\u001b[0m",
            "\u001b[0;31mTypeError\u001b[0m: must be str, not int"
          ]
        }
      ]
    },
    {
      "cell_type": "code",
      "metadata": {
        "id": "tcvvWjwYGYcY",
        "outputId": "9d61fbb8-d3f6-40d9-ba36-b23f98250df0"
      },
      "source": [
        "print(string * \"this many times\") # 문자열 * 문자열은 불가능"
      ],
      "execution_count": null,
      "outputs": [
        {
          "ename": "TypeError",
          "evalue": "can't multiply sequence by non-int of type 'str'",
          "output_type": "error",
          "traceback": [
            "\u001b[0;31m------------------------------------------------\u001b[0m",
            "\u001b[0;31mTypeError\u001b[0m      Traceback (most recent call last)",
            "\u001b[0;32m<ipython-input-8-b0e082a63802>\u001b[0m in \u001b[0;36m<module>\u001b[0;34m()\u001b[0m\n\u001b[0;32m----> 1\u001b[0;31m \u001b[0mprint\u001b[0m\u001b[0;34m(\u001b[0m\u001b[0mstring\u001b[0m \u001b[0;34m*\u001b[0m \u001b[0;34m\"this many times\"\u001b[0m\u001b[0;34m)\u001b[0m\u001b[0;34m\u001b[0m\u001b[0;34m\u001b[0m\u001b[0m\n\u001b[0m",
            "\u001b[0;31mTypeError\u001b[0m: can't multiply sequence by non-int of type 'str'"
          ]
        }
      ]
    },
    {
      "cell_type": "markdown",
      "metadata": {
        "id": "OHDaTSDOGYca"
      },
      "source": [
        "#### Sequence\n",
        "\n",
        "문자열, 리스트, 튜플은 모두 시퀀스 데이터입니다.\n",
        "\n",
        "파이썬에서 시퀀스 데이터는 모두 indexing과 slicing이 가능합니다.\n",
        "- <code>indexing</code> : 순번(위치)로 객체의 멤버를 반환하는 것.\n",
        "- <code>slicing</code> : 객체의 멤버들을 부분으로 잘라 반환하는 것."
      ]
    },
    {
      "cell_type": "code",
      "metadata": {
        "colab": {
          "base_uri": "https://localhost:8080/"
        },
        "id": "wWAgJvOqGYcb",
        "outputId": "6f7f22ec-b119-4b2c-df09-cbcde2b0d9fe"
      },
      "source": [
        "string = \"SEQUENCE\"\n",
        "print(string[0])  # string객체의 가장 0번째 (가장 처음 멤버) 접근 (indexing)"
      ],
      "execution_count": 5,
      "outputs": [
        {
          "output_type": "stream",
          "name": "stdout",
          "text": [
            "S\n"
          ]
        }
      ]
    },
    {
      "cell_type": "code",
      "metadata": {
        "colab": {
          "base_uri": "https://localhost:8080/"
        },
        "id": "XYwe-hZpGYcc",
        "outputId": "5894cbf8-a467-4a7c-f368-017aa14d2105"
      },
      "source": [
        "print(string[0:4]) # string객체의 0번째부터 4번째 멤버 전 (3번째 멤버) 까지 부분으로 잘라서 반환 (slicing)"
      ],
      "execution_count": 6,
      "outputs": [
        {
          "output_type": "stream",
          "name": "stdout",
          "text": [
            "SEQU\n"
          ]
        }
      ]
    },
    {
      "cell_type": "markdown",
      "metadata": {
        "id": "7mNwblGYGYcl"
      },
      "source": [
        "#### Immutable Data\n",
        "\n",
        "파이썬에서 문자열과 튜플은 불변의 데이터입니다. \n",
        "\n",
        "* immutable 데이터는 멤버의 요소가 변할 수 없습니다."
      ]
    },
    {
      "cell_type": "code",
      "metadata": {
        "id": "2TUMSXMvGYcn",
        "outputId": "ecf2ef81-7b5c-45b0-b137-899bba8415b0"
      },
      "source": [
        "string = \"yello\"\n",
        "string[0] = \"h\" # 불변의 데이터는 요소/멤버의 변경이 불가능\n",
        "print(string)"
      ],
      "execution_count": null,
      "outputs": [
        {
          "ename": "TypeError",
          "evalue": "'str' object does not support item assignment",
          "output_type": "error",
          "traceback": [
            "\u001b[0;31m------------------------------------------------\u001b[0m",
            "\u001b[0;31mTypeError\u001b[0m      Traceback (most recent call last)",
            "\u001b[0;32m<ipython-input-28-ac42e9c3ed60>\u001b[0m in \u001b[0;36m<module>\u001b[0;34m()\u001b[0m\n\u001b[1;32m      1\u001b[0m \u001b[0mstring\u001b[0m \u001b[0;34m=\u001b[0m \u001b[0;34m\"yello\"\u001b[0m\u001b[0;34m\u001b[0m\u001b[0;34m\u001b[0m\u001b[0m\n\u001b[0;32m----> 2\u001b[0;31m \u001b[0mstring\u001b[0m\u001b[0;34m[\u001b[0m\u001b[0;36m0\u001b[0m\u001b[0;34m]\u001b[0m \u001b[0;34m=\u001b[0m \u001b[0;34m\"h\"\u001b[0m\u001b[0;34m\u001b[0m\u001b[0;34m\u001b[0m\u001b[0m\n\u001b[0m\u001b[1;32m      3\u001b[0m \u001b[0mprint\u001b[0m\u001b[0;34m(\u001b[0m\u001b[0mstring\u001b[0m\u001b[0;34m)\u001b[0m\u001b[0;34m\u001b[0m\u001b[0;34m\u001b[0m\u001b[0m\n",
            "\u001b[0;31mTypeError\u001b[0m: 'str' object does not support item assignment"
          ]
        }
      ]
    },
    {
      "cell_type": "markdown",
      "metadata": {
        "id": "bHjwtfnHGYcn"
      },
      "source": [
        "위와 같이 문자를 변경하고 싶을 떄에는 새로운 문자을 만들어 주어야 합니다."
      ]
    },
    {
      "cell_type": "code",
      "metadata": {
        "id": "EvK-1MqDGYco",
        "outputId": "82bafaec-d115-41f2-9b8f-8cc6450551b7"
      },
      "source": [
        "string = \"yello\"\n",
        "new_string = 'h' + string[1:] # slicing\n",
        "print(new_string)"
      ],
      "execution_count": null,
      "outputs": [
        {
          "name": "stdout",
          "output_type": "stream",
          "text": [
            "hello\n"
          ]
        }
      ]
    },
    {
      "cell_type": "markdown",
      "metadata": {
        "id": "M4AnJCULGYco"
      },
      "source": [
        "#### String Methods\n",
        "문자열 객체가 활용할 수 있는 명령어(method)는 다음과 같습니다."
      ]
    },
    {
      "cell_type": "markdown",
      "metadata": {
        "id": "QhvaDpW7GYcp"
      },
      "source": [
        "##### Casing\n",
        "- <code>str.upper()</code> : 전체를 대문자(uppercase)로 변환\n",
        "- <code>str.lower()</code> : 전체를 소문자(lowercase)로 변환\n",
        "- <code>str.title()</code> : 첫 문자 + 공백 이후의 모든 첫 문자를 대문자로 변환 (나머지는 소문자)\n",
        "- <code>str.capitalize()</code> : 첫 문자를 대문자로 변환 (나머지는 소문자)"
      ]
    },
    {
      "cell_type": "code",
      "metadata": {
        "id": "VdNWYtsxGYcq",
        "outputId": "847adb8d-a177-4441-ab19-ddba2172e336"
      },
      "source": [
        "string = \"this is python\"\n",
        "print(string.upper())"
      ],
      "execution_count": null,
      "outputs": [
        {
          "name": "stdout",
          "output_type": "stream",
          "text": [
            "THIS IS PYTHON\n"
          ]
        }
      ]
    },
    {
      "cell_type": "code",
      "metadata": {
        "id": "D5jIoCURGYcs",
        "outputId": "b95af9c6-9016-4440-b2b0-6fbbd46bd557"
      },
      "source": [
        "print(string.lower())"
      ],
      "execution_count": null,
      "outputs": [
        {
          "name": "stdout",
          "output_type": "stream",
          "text": [
            "this is python\n"
          ]
        }
      ]
    },
    {
      "cell_type": "code",
      "metadata": {
        "id": "uT8ja9yhGYct",
        "outputId": "7e5bcdf8-3159-42bd-9df3-b01355f0c2de"
      },
      "source": [
        "print(string.title())"
      ],
      "execution_count": null,
      "outputs": [
        {
          "name": "stdout",
          "output_type": "stream",
          "text": [
            "This Is Python\n"
          ]
        }
      ]
    },
    {
      "cell_type": "code",
      "metadata": {
        "id": "cuv0tlJAGYcu",
        "outputId": "52269a5a-4858-407c-afd9-940e672cac6b"
      },
      "source": [
        "print(string.capitalize())"
      ],
      "execution_count": null,
      "outputs": [
        {
          "name": "stdout",
          "output_type": "stream",
          "text": [
            "This is python\n"
          ]
        }
      ]
    },
    {
      "cell_type": "markdown",
      "metadata": {
        "id": "LTIDtED3GYcu"
      },
      "source": [
        "##### Validation\n",
        "- <code>str.isalpha()</code> : 알파벳 (a-z, A-Z)로만 구성되어있는지 확인 \n",
        "- <code>str.isdigit()</code> : 숫자 (0-9)로만 구성되어있는지 확인\n",
        "- <code>str.isalnum()</code> : alphanumeric, 숫자 또는 알파벳으로만 구성되어있는지 확인\n",
        "- <code>str.islower()</code> : 소문자 (알파벳)으로만 구성되어있는지 확인\n",
        "- <code>str.isupper()</code> : 대문자 (알파벳)으로만 구성되어있는지 확인"
      ]
    },
    {
      "cell_type": "code",
      "metadata": {
        "id": "V76QqI2gGYcx",
        "outputId": "ac2932e4-707c-4bb3-d798-3597928476c0"
      },
      "source": [
        "alpha_true_ex = \"abc\"\n",
        "alpha_false_ex = '123' # 알파벳으로만 구성되어있지 않음\n",
        "\n",
        "print(alpha_true_ex.isalpha())\n",
        "print(alpha_false_ex.isalpha())"
      ],
      "execution_count": null,
      "outputs": [
        {
          "name": "stdout",
          "output_type": "stream",
          "text": [
            "True\n",
            "False\n"
          ]
        }
      ]
    },
    {
      "cell_type": "code",
      "metadata": {
        "id": "rtnYzH0sGYc0",
        "outputId": "55d020a5-addc-4ac9-cc0e-cfa49a070529"
      },
      "source": [
        "digit_true_ex = '123'\n",
        "digit_false_ex = '123$' # 특수문자가 포함되어있음\n",
        "\n",
        "print(digit_true_ex.isdigit())\n",
        "print(digit_false_ex.isdigit())"
      ],
      "execution_count": null,
      "outputs": [
        {
          "name": "stdout",
          "output_type": "stream",
          "text": [
            "True\n",
            "False\n"
          ]
        }
      ]
    },
    {
      "cell_type": "code",
      "metadata": {
        "id": "bJ0XPCwxGYc2",
        "outputId": "a671f298-bbf3-40cd-8111-0ed04d56c691"
      },
      "source": [
        "alnum_true_ex = '123abc'\n",
        "alnum_false_ex = '123$bac' # 특수문자가 포함되어있음\n",
        "\n",
        "print(alnum_true_ex.isalnum())\n",
        "print(alnum_false_ex.isalnum())"
      ],
      "execution_count": null,
      "outputs": [
        {
          "name": "stdout",
          "output_type": "stream",
          "text": [
            "True\n",
            "False\n"
          ]
        }
      ]
    },
    {
      "cell_type": "code",
      "metadata": {
        "id": "tyjNJ7btGYc3",
        "outputId": "8899c676-aff2-4d04-c7bd-4ef83af510f6"
      },
      "source": [
        "lower_true_ex = '123abc' # lower의 경우 숫자는 대소문자 구분이 없기 때문에, 무시하고 True를 반환함 (알파벳만 확인)\n",
        "lower_false_ex = '123ABC' \n",
        "\n",
        "print(lower_true_ex.islower())\n",
        "print(lower_false_ex.islower())"
      ],
      "execution_count": null,
      "outputs": [
        {
          "name": "stdout",
          "output_type": "stream",
          "text": [
            "True\n",
            "False\n"
          ]
        }
      ]
    },
    {
      "cell_type": "code",
      "metadata": {
        "id": "HE_LLDcuGYc4",
        "outputId": "ec5036ba-29f3-4b9a-fff2-bd2f66a3641d"
      },
      "source": [
        "upper_true_ex = '123ABC'\n",
        "upper_false_ex = '123abc' \n",
        "\n",
        "print(lower_true_ex.isupper())\n",
        "print(lower_false_ex.isupper())"
      ],
      "execution_count": null,
      "outputs": [
        {
          "name": "stdout",
          "output_type": "stream",
          "text": [
            "False\n",
            "True\n"
          ]
        }
      ]
    },
    {
      "cell_type": "markdown",
      "metadata": {
        "id": "c-zfI0oTGYc4"
      },
      "source": [
        "##### Other Methods\n",
        "- <code>str.find(x)</code> : x가 문자열의 어느 위치에 있는지 index를 반환합니다. 만약 찾을수 없다면 -1을 반환하며, 가장 먼저 찾은 위치를 반환합니다.\n",
        "- <code>str.count(x)</code> : x가 문자열에 몇번이나 사용되었는지 개수를 반환합니다.\n",
        "- <code>str.split(delimiter)</code> : 문자열을 delimiter를 기준으로 분리하여 리스트의 형태로 반환합니다.\n",
        "- <code>str.strip()</code> : 문자열의 좌우 공백(whitespace)를 제거합니다.\n",
        "- <code>str.replace(x, y)</code> : 문자열의 모든 x를 y로 대체합니다."
      ]
    },
    {
      "cell_type": "code",
      "metadata": {
        "id": "EacdeOasGYc5",
        "outputId": "19dd2a6b-5082-4296-f6d2-b9cae0ca7431"
      },
      "source": [
        "string = \"abracadabra\"\n",
        "print(string.find('a')) # 가장 먼저 찾은 'a' 반환\n",
        "print(string.find('z')) # 'z'는 존재하지 않음으로 -1 반환"
      ],
      "execution_count": null,
      "outputs": [
        {
          "name": "stdout",
          "output_type": "stream",
          "text": [
            "0\n",
            "-1\n"
          ]
        }
      ]
    },
    {
      "cell_type": "code",
      "metadata": {
        "scrolled": true,
        "id": "1LwzD2ncGYc6",
        "outputId": "bfdf73b2-c198-4b56-8558-fc6c2514b927"
      },
      "source": [
        "print(string.count('a'))\n",
        "print(string.count('ra')) # 문자 하나가 아닌 단어 자체를 찾아볼 수도 있습니다"
      ],
      "execution_count": null,
      "outputs": [
        {
          "name": "stdout",
          "output_type": "stream",
          "text": [
            "5\n",
            "2\n"
          ]
        }
      ]
    },
    {
      "cell_type": "code",
      "metadata": {
        "id": "k1tny5WeGYc7",
        "outputId": "417f1d3a-10dc-4e22-ad2d-586cd2b544fe"
      },
      "source": [
        "str1 = \"this is split method\"\n",
        "str2 = 'abracadabra'\n",
        "\n",
        "print(str1.split())    # default는 공백을 기준으로 자름\n",
        "print(str2.split('b')) # 옵션에 어디를 기준으로 자를것인지 정의 "
      ],
      "execution_count": null,
      "outputs": [
        {
          "name": "stdout",
          "output_type": "stream",
          "text": [
            "['this', 'is', 'split', 'method']\n",
            "['a', 'racada', 'ra']\n"
          ]
        }
      ]
    },
    {
      "cell_type": "code",
      "metadata": {
        "id": "nLbJK-YRGYc7",
        "outputId": "ad2852ec-e560-4b15-eff6-50ec3959a7c7"
      },
      "source": [
        "string = '               word with whitespaces                '\n",
        "print(\"this is\" + string)\n",
        "print(\"now the whitespace are gone \" + string.strip())"
      ],
      "execution_count": null,
      "outputs": [
        {
          "name": "stdout",
          "output_type": "stream",
          "text": [
            "this is               word with whitespaces                \n",
            "now the whitespace are gone word with whitespaces\n"
          ]
        }
      ]
    },
    {
      "cell_type": "code",
      "metadata": {
        "id": "B9QXxzwcGYc8",
        "outputId": "7d9351f1-3461-407e-9c81-533d9e0dfae8"
      },
      "source": [
        "statement = \"we are learning C language. C is the best language in the world\"\n",
        "statement = statement.replace('C', \"Python\") # 문자열의 모든 'C'를 'Python'으로 대체\n",
        "print(statement)"
      ],
      "execution_count": null,
      "outputs": [
        {
          "name": "stdout",
          "output_type": "stream",
          "text": [
            "we are learning Python language. Python is the best language in the world\n"
          ]
        }
      ]
    }
  ]
}