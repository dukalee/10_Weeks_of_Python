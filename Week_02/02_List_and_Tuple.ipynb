{
  "nbformat": 4,
  "nbformat_minor": 0,
  "metadata": {
    "kernelspec": {
      "display_name": "Python 3",
      "language": "python",
      "name": "python3"
    },
    "language_info": {
      "codemirror_mode": {
        "name": "ipython",
        "version": 3
      },
      "file_extension": ".py",
      "mimetype": "text/x-python",
      "name": "python",
      "nbconvert_exporter": "python",
      "pygments_lexer": "ipython3",
      "version": "3.6.8"
    },
    "colab": {
      "name": "02. List and Tuple.ipynb",
      "provenance": [],
      "collapsed_sections": [],
      "toc_visible": true,
      "include_colab_link": true
    }
  },
  "cells": [
    {
      "cell_type": "markdown",
      "metadata": {
        "id": "view-in-github",
        "colab_type": "text"
      },
      "source": [
        "<a href=\"https://colab.research.google.com/github/dukalee/10_Weeks_of_Python/blob/main/Week_02/02_List_and_Tuple.ipynb\" target=\"_parent\"><img src=\"https://colab.research.google.com/assets/colab-badge.svg\" alt=\"Open In Colab\"/></a>"
      ]
    },
    {
      "cell_type": "markdown",
      "metadata": {
        "id": "WuNDb1qIJteF"
      },
      "source": [
        "### List\n",
        "리스트는 다량의 값/데이터를 담을수 있는 데이터입니다.\n",
        "* 파이썬에서 리스트는 대괄호 [] 로 표현합니다."
      ]
    },
    {
      "cell_type": "code",
      "metadata": {
        "id": "GC0e2BwhJteK",
        "outputId": "d9fbc63b-5732-412c-d261-be022ac270ec"
      },
      "source": [
        "alist = [] # 비어있는 리스트\n",
        "print(type(alist))\n",
        "print(alist) "
      ],
      "execution_count": null,
      "outputs": [
        {
          "name": "stdout",
          "output_type": "stream",
          "text": [
            "<class 'list'>\n",
            "[]\n"
          ]
        }
      ]
    },
    {
      "cell_type": "markdown",
      "metadata": {
        "id": "h2VWgRZyJteN"
      },
      "source": [
        "list()를 활용하여 비어있는 리스트를 생성할 수 있습니다.\n",
        "* str(), int()와 같이 list()는 다른 iterable 데이터를 리스트로 변환시킬 수 있습니다.\n",
        "\n",
        "iterable은 리스트, 튜플, 문자열과 같이 \"여러 요소/멤버들\"을 가지고 있는 데이터를 의미합니다."
      ]
    },
    {
      "cell_type": "code",
      "metadata": {
        "id": "Go5lydYAJteO",
        "outputId": "5193c299-b059-4ba4-ff76-aa6b47fa3e4f"
      },
      "source": [
        "blist = list()\n",
        "print(type(list))\n",
        "print(blist)"
      ],
      "execution_count": null,
      "outputs": [
        {
          "name": "stdout",
          "output_type": "stream",
          "text": [
            "<class 'type'>\n",
            "[]\n"
          ]
        }
      ]
    },
    {
      "cell_type": "markdown",
      "metadata": {
        "id": "WDuBQY7RJteP"
      },
      "source": [
        "파이썬에서의 리스트는 C의 array와는 달리, 데이터 타입에 한정되지 않고, 여러 데이터를 섞어 포함시킬 수 있습니다."
      ]
    },
    {
      "cell_type": "code",
      "metadata": {
        "id": "FUeb5LI0JteP",
        "outputId": "7dc30a3f-471a-43da-d849-a3c748bc9edd"
      },
      "source": [
        "alist = [1, 3.3, 'python', True]\n",
        "print(alist)"
      ],
      "execution_count": null,
      "outputs": [
        {
          "name": "stdout",
          "output_type": "stream",
          "text": [
            "[1, 3.3, 'python', True]\n"
          ]
        }
      ]
    },
    {
      "cell_type": "markdown",
      "metadata": {
        "id": "_ohI4SgCJteQ"
      },
      "source": [
        "#### List Operations\n",
        "리스트는 두가지 연산이 가능합니다 : \n",
        "- <b>+</b> : 리스트와 리스트를 결합하여 새로운 리스트로 반환합니다.\n",
        "- <b>*</b> : 리스트의 항목들을 뒤에 n번 반복해서 결합합니다."
      ]
    },
    {
      "cell_type": "code",
      "metadata": {
        "id": "6oRHZY5CJteR",
        "outputId": "7510b2cc-8331-44f2-98ff-32bb07707299"
      },
      "source": [
        "alist = [1, 2, 3]\n",
        "blist = [4, 5, 6]\n",
        "print(alist + blist) # [1, 2, 3] 과 [4, 5, 6]의 항목을 합하여 새로운 리스트로 결합"
      ],
      "execution_count": null,
      "outputs": [
        {
          "name": "stdout",
          "output_type": "stream",
          "text": [
            "[1, 2, 3, 4, 5, 6]\n"
          ]
        }
      ]
    },
    {
      "cell_type": "code",
      "metadata": {
        "id": "To-ySvkBJteS",
        "outputId": "170d0ae6-b24f-44a0-88bb-61440bb5e3ee"
      },
      "source": [
        "print(alist * 3) # [1, 2, 3]을 3번 반복해서 결합"
      ],
      "execution_count": null,
      "outputs": [
        {
          "name": "stdout",
          "output_type": "stream",
          "text": [
            "[1, 2, 3, 1, 2, 3, 1, 2, 3]\n"
          ]
        }
      ]
    },
    {
      "cell_type": "markdown",
      "metadata": {
        "id": "JEly2P_HJteT"
      },
      "source": [
        "#### Sequence\n",
        "문자열, 리스트, 튜플은 모두 시퀀스 데이터입니다.\n",
        "\n",
        "시퀀스 데이터는 공통적으로 두가지가 가능합니다:\n",
        "- <code>indexing</code> : 순번(위치)로 객체의 멤버를 반환하는 것.\n",
        "- <code>slciing </code> : 객체의 멤버들을 부분으로 잘라 반환하는 것."
      ]
    },
    {
      "cell_type": "markdown",
      "metadata": {
        "id": "5S5EXLEeJteT"
      },
      "source": [
        "##### Indexing\n",
        "indexing은 순번으로 리스트 (시퀀스 데이터)의 항목들을 반환합니다. 컴퓨터에서 순번은 0 부터 시작합니다. <br>\n",
        "아래 리스트에서 첫번째 항목인 1을 꺼내오고 싶다면, 0번째 항목에 indexing을 통하여 접근하면 됩니다. n위치의 아이템을 접근하기 위해서는:\n",
        "\n",
        "- <code>sequence[n]</code>\n",
        "\n",
        "처럼 indexing을 하여 접근할 수 있습니다."
      ]
    },
    {
      "cell_type": "code",
      "metadata": {
        "id": "dZmRuxj5JteU",
        "outputId": "75d86977-066e-4de9-9b73-f34d9d3bd839"
      },
      "source": [
        "alist = [1, 3.3, 'python', True]\n",
        "print(alist[0])"
      ],
      "execution_count": null,
      "outputs": [
        {
          "name": "stdout",
          "output_type": "stream",
          "text": [
            "1\n"
          ]
        }
      ]
    },
    {
      "cell_type": "markdown",
      "metadata": {
        "id": "lF-IsN14JteV"
      },
      "source": [
        "물론 그 값을 반환(return)하기 때문에, 변수에 저장할 수도 있습니다."
      ]
    },
    {
      "cell_type": "code",
      "metadata": {
        "id": "dWjpWya0JteV",
        "outputId": "e3c41df4-2ddc-4afb-a53f-98391948af9e"
      },
      "source": [
        "alist = [1, 3.3, 'python', True]\n",
        "a = alist[2] # 'python'을 a에 저장\n",
        "print(a)"
      ],
      "execution_count": null,
      "outputs": [
        {
          "name": "stdout",
          "output_type": "stream",
          "text": [
            "python\n"
          ]
        }
      ]
    },
    {
      "cell_type": "markdown",
      "metadata": {
        "id": "vQDPuk7aJteW"
      },
      "source": [
        "파이썬에는 indexing에 특별한 기능이 있습니다. 왼쪽부터 접근할때에는 0부터 오름차순으로 index를 높여가지만, <br><code>반대쪽에서부터 접근할시에는 -1부터 내림차순으로 접근</code>할 수 있게 되어있습니다. 그러므로 맨 마지막 항목을 접근할 때에는 <code>sequence[-1]</code>로 접근할 수 있습니다."
      ]
    },
    {
      "cell_type": "code",
      "metadata": {
        "id": "j0C77Dy1JteW",
        "outputId": "23955206-490c-4131-d407-723926228edd"
      },
      "source": [
        "alist = [1, 3.3, 'python', True]\n",
        "print(alist[-1]) # 맨 마지막 항목 접근\n",
        "print(alist[-3]) # 맨 뒤에서 3번째 항목 접근"
      ],
      "execution_count": null,
      "outputs": [
        {
          "name": "stdout",
          "output_type": "stream",
          "text": [
            "True\n",
            "3.3\n"
          ]
        }
      ]
    },
    {
      "cell_type": "markdown",
      "metadata": {
        "id": "Kn0c_Cq1JteW"
      },
      "source": [
        "##### Slicing\n",
        "슬라이싱은 말 그대로 '자른다'라는 것을 의미하듯이, <code>sequence 데이터의 일부분을 자른후 그 부분을 통채로 리스트의 형태로 반환</code>합니다.<br>\n",
        "슬라이싱은 <code>range()</code>함수와 비슷한 방법으로 사용되는데, 아래와 같이 활용할 수 있습니다.\n",
        "\n",
        "- <code>sequence[start:end]</code>\n",
        "    - start부터 end 전까지의 항목들을 잘라서 반환\n",
        "- <code>sequence[start:end:step]</code>\n",
        "    - start부터 end전까지의 항목들을 step 간격으로 잘라서 반환 \n",
        "    \n",
        "예를 들어 아래의 리스트를 반으로 자를려면 0번부터 1번까지의 항목을 잘라내야 합니다. 그렇다면:\n",
        "- start : 0\n",
        "- end : 2 (end의 전 항목까지만 포함될 것이기 때문에)\n",
        "\n",
        "로 slicing을 해주면 됩니다."
      ]
    },
    {
      "cell_type": "code",
      "metadata": {
        "id": "NdnSmuwmJteX",
        "outputId": "bec2f2cc-3e42-4cbd-f585-1be73092b7e5"
      },
      "source": [
        "alist = [1, 3.3, 'python', True]\n",
        "print(alist[0:2])"
      ],
      "execution_count": null,
      "outputs": [
        {
          "name": "stdout",
          "output_type": "stream",
          "text": [
            "[1, 3.3]\n"
          ]
        }
      ]
    },
    {
      "cell_type": "markdown",
      "metadata": {
        "id": "BJjRb9FEJteX"
      },
      "source": [
        "step이 추가되면 간격을 지정할 수 있습니다."
      ]
    },
    {
      "cell_type": "code",
      "metadata": {
        "id": "znEM2dSNJteY",
        "outputId": "34aea31d-fdc3-4080-a08f-9c66168edd6c"
      },
      "source": [
        "n_list = [1, 2, 3, 4, 5, 6, 7, 8, 9, 10]\n",
        "print(n_list[0:10:3]) # 0번부터 마지막까지 3개 간격으로 잘라서 반환"
      ],
      "execution_count": null,
      "outputs": [
        {
          "name": "stdout",
          "output_type": "stream",
          "text": [
            "[1, 4, 7, 10]\n"
          ]
        }
      ]
    },
    {
      "cell_type": "markdown",
      "metadata": {
        "id": "OcmRNA9HJteY"
      },
      "source": [
        "만약에 start가 처음부터이고, end가 마지막 항목까지 갈 것이라면 넣어주어야 하는 시작/끝 점의 숫자를 누락시켜도 괜찮습니다."
      ]
    },
    {
      "cell_type": "code",
      "metadata": {
        "id": "TnG7EonuJteY",
        "outputId": "d0b85861-97ad-4b58-e796-6d55509ffa2d"
      },
      "source": [
        "n_list = [1, 2, 3, 4, 5, 6, 7, 8, 9, 10]\n",
        "print(n_list[:])  # 처음부터 끝까지\n",
        "print(n_list[:5]) # 처음부터 4번까지 \n",
        "print(n_list[5:]) # 5번부터 끝까지"
      ],
      "execution_count": null,
      "outputs": [
        {
          "name": "stdout",
          "output_type": "stream",
          "text": [
            "[1, 2, 3, 4, 5, 6, 7, 8, 9, 10]\n",
            "[1, 2, 3, 4, 5]\n",
            "[6, 7, 8, 9, 10]\n"
          ]
        }
      ]
    },
    {
      "cell_type": "markdown",
      "metadata": {
        "id": "t3SA7nEtJteZ"
      },
      "source": [
        "#### Mutable Data\n",
        "리스트는 mutable data로서, 변환이 가능한 데이터입니다. \n",
        "* 즉, 리스트의 요소들이 변경될 수 있습니다.\n",
        "* 리스트의 요소등에 접근하여 = (할당)을 통해 멤버를 교체할 수 있습니다."
      ]
    },
    {
      "cell_type": "code",
      "metadata": {
        "id": "u0quE9N3Jtea",
        "outputId": "32ce9346-d5f5-48e9-f1fd-2f6980d5e6c0"
      },
      "source": [
        "alist = [1, 3.3, 'python', True]\n",
        "alist[2] = 'C++' # 2번을 C++로 재대입\n",
        "print(alist)"
      ],
      "execution_count": null,
      "outputs": [
        {
          "name": "stdout",
          "output_type": "stream",
          "text": [
            "[1, 3.3, 'C++', True]\n"
          ]
        }
      ]
    },
    {
      "cell_type": "code",
      "metadata": {
        "id": "0jyxgUodJtea",
        "outputId": "3aa0bfd8-87da-4df8-a074-3b9661d5cd88"
      },
      "source": [
        "alist = [1, 3.3, 'python', True]\n",
        "alist[:2] = [2, 3, 4] # 일부분을 떼어내고 나머지 부분과 결합\n",
        "print(alist)"
      ],
      "execution_count": null,
      "outputs": [
        {
          "name": "stdout",
          "output_type": "stream",
          "text": [
            "[2, 3, 4, 'python', True]\n"
          ]
        }
      ]
    },
    {
      "cell_type": "markdown",
      "metadata": {
        "id": "ESNugN6yJteb"
      },
      "source": [
        "#### Type Casting\n",
        "모든 iterable 데이터는 list() casting 함수를 통해 리스트로 변환시킬 수 있습니다.\n",
        "- string, tuple, set, dictionary등...."
      ]
    },
    {
      "cell_type": "code",
      "metadata": {
        "id": "53Zvk06WJtec",
        "outputId": "3c79f1ba-5c7c-45f3-8e97-24a6e97f661e"
      },
      "source": [
        "b = list(\"hello\") # string객체를 리스트로 변환 \n",
        "print(b)"
      ],
      "execution_count": null,
      "outputs": [
        {
          "name": "stdout",
          "output_type": "stream",
          "text": [
            "['h', 'e', 'l', 'l', 'o']\n"
          ]
        }
      ]
    },
    {
      "cell_type": "code",
      "metadata": {
        "id": "Vk_MXEaiJtec",
        "outputId": "77358ea5-73ec-45fe-d652-c5d5a3b42834"
      },
      "source": [
        "c = list({1 : 'a', 2: 'b'}) #dictionary 객체를 리스트로 변환 -> key값만 변환됨 \n",
        "print(c)"
      ],
      "execution_count": null,
      "outputs": [
        {
          "name": "stdout",
          "output_type": "stream",
          "text": [
            "[1, 2]\n"
          ]
        }
      ]
    },
    {
      "cell_type": "markdown",
      "metadata": {
        "id": "AeIO68fCJtec"
      },
      "source": [
        "#### List Methods\n",
        "파이썬에는 리스트 객체가 할수 있는 여러가지 기능이 구현되어 있습니다. \n",
        "- <code>list.append(item)</code> : item을 리스트에 추가\n",
        "- <code>list.insert(index, item)</code> : 리스트의 index에 item을 추가\n",
        "- <code>list.index(item)</code> : item이 몇번째 index에 있는지 확인, 없으면 에러 발생\n",
        "- <code>list.remove(item)</code> : item을 리스트에서 제거, item이 없으면 에러 발생\n",
        "- <code>list.pop(index)</code> : index위치의 아이템을 제거 및 반환(return). index명시하지 않을 시 default 로 마지막것을 빼냄\n",
        "- <code>list.sort()</code> : 리스트를 정렬 (정수 + 실수형, 또는 문자열형으로 통일된 데이터만 가능) \n",
        "- <code>list.reverse()</code> : 리스트 뒤집기 (마지막이 처음으로) "
      ]
    },
    {
      "cell_type": "code",
      "metadata": {
        "id": "Q9Ltg1StJted",
        "outputId": "a7b1a9c9-459f-4f60-8e50-89f96438adc0"
      },
      "source": [
        "n_list = [1, 2, 3, 4, 5, 6, 7, 8, 9, 10]\n",
        "n_list.append(\"HELLO\") # 리스트의 맨 마지막에 HELLO 추가\n",
        "print(n_list)"
      ],
      "execution_count": null,
      "outputs": [
        {
          "name": "stdout",
          "output_type": "stream",
          "text": [
            "[1, 2, 3, 4, 5, 6, 7, 8, 9, 10, 'HELLO']\n"
          ]
        }
      ]
    },
    {
      "cell_type": "code",
      "metadata": {
        "id": "YJDBScvEJted",
        "outputId": "be69d4db-80ab-4f43-95bb-c9fb2359c1b1"
      },
      "source": [
        "n_list = [1, 2, 3, 4, 6, 7, 8, 9, 10]\n",
        "n_list.insert(4, 5) # 4번째 index 5를 추가 \n",
        "print(n_list)       # 아래의 결과처럼 덮어씌워지는것이 아닌, 삽입을 하고 뒤의 항목들은 index가 하나씩 밀려나게 됨"
      ],
      "execution_count": null,
      "outputs": [
        {
          "name": "stdout",
          "output_type": "stream",
          "text": [
            "[1, 2, 3, 4, 5, 6, 7, 8, 9, 10]\n"
          ]
        }
      ]
    },
    {
      "cell_type": "code",
      "metadata": {
        "id": "6AwjJEXWJtee",
        "outputId": "774c1b78-057c-44c2-ae0c-d397f5f5ed2c"
      },
      "source": [
        "alist = [1, 3.3, 'python', True]\n",
        "print(alist.index(3.3)) # 3.3은 몇번째 index에 있는가? \n",
        "language = alist.index('python') # index 메소드는 위와 다르게 무언가를 반환(return)함으로, 변수에 저장 가능\n",
        "print(language)"
      ],
      "execution_count": null,
      "outputs": [
        {
          "name": "stdout",
          "output_type": "stream",
          "text": [
            "1\n",
            "2\n"
          ]
        }
      ]
    },
    {
      "cell_type": "code",
      "metadata": {
        "id": "ktPSEBZaJtee",
        "outputId": "9f8f5006-58af-4877-992a-14e9da36abee"
      },
      "source": [
        "alist = [1, 3.3, 'python', True]\n",
        "alist.remove('python') # 리스트에서 'python' 제거\n",
        "print(alist)\n",
        "\n",
        "alist.remove(4) # 4가 없음으로 에러 발생\n",
        "print(alist)"
      ],
      "execution_count": null,
      "outputs": [
        {
          "name": "stdout",
          "output_type": "stream",
          "text": [
            "[1, 3.3, True]\n"
          ]
        },
        {
          "ename": "ValueError",
          "evalue": "list.remove(x): x not in list",
          "output_type": "error",
          "traceback": [
            "\u001b[0;31m------------------------------------------------\u001b[0m",
            "\u001b[0;31mValueError\u001b[0m     Traceback (most recent call last)",
            "\u001b[0;32m<ipython-input-40-5fe8831de4ed>\u001b[0m in \u001b[0;36m<module>\u001b[0;34m()\u001b[0m\n\u001b[1;32m      3\u001b[0m \u001b[0mprint\u001b[0m\u001b[0;34m(\u001b[0m\u001b[0malist\u001b[0m\u001b[0;34m)\u001b[0m\u001b[0;34m\u001b[0m\u001b[0;34m\u001b[0m\u001b[0m\n\u001b[1;32m      4\u001b[0m \u001b[0;34m\u001b[0m\u001b[0m\n\u001b[0;32m----> 5\u001b[0;31m \u001b[0malist\u001b[0m\u001b[0;34m.\u001b[0m\u001b[0mremove\u001b[0m\u001b[0;34m(\u001b[0m\u001b[0;36m4\u001b[0m\u001b[0;34m)\u001b[0m\u001b[0;34m\u001b[0m\u001b[0;34m\u001b[0m\u001b[0m\n\u001b[0m\u001b[1;32m      6\u001b[0m \u001b[0mprint\u001b[0m\u001b[0;34m(\u001b[0m\u001b[0malist\u001b[0m\u001b[0;34m)\u001b[0m\u001b[0;34m\u001b[0m\u001b[0;34m\u001b[0m\u001b[0m\n",
            "\u001b[0;31mValueError\u001b[0m: list.remove(x): x not in list"
          ]
        }
      ]
    },
    {
      "cell_type": "code",
      "metadata": {
        "id": "3MnR6CzQJtef",
        "outputId": "47c4b871-d87e-4fa1-adbd-8720e6c79528"
      },
      "source": [
        "alist = [1, 3.3, 'python', True]\n",
        "item = alist.pop() # 맨 마지막 항목 (True)를 빼내서 item에 저장\n",
        "print(item)  # remove와는 달리 빼낸 항목을 저장할 수 있고\n",
        "print(alist) # 리스트에서는 사라지는 것을 볼 수 있음.\n",
        "\n",
        "item2 = alist.pop(1) # index를 명시해주면 index 위치의 item을 빼냄\n",
        "print(item2) \n",
        "print(alist)"
      ],
      "execution_count": null,
      "outputs": [
        {
          "name": "stdout",
          "output_type": "stream",
          "text": [
            "True\n",
            "[1, 3.3, 'python']\n",
            "3.3\n",
            "[1, 'python']\n"
          ]
        }
      ]
    },
    {
      "cell_type": "code",
      "metadata": {
        "id": "9E7eJvsiJtef",
        "outputId": "d33ae8ff-24a8-4d69-c86b-58ff4476a3bd"
      },
      "source": [
        "a = [1, 3, 5, 2, 4]\n",
        "b = [3.3, 8.9, 1, 1000]\n",
        "c = ['e', 'b', 'd', 'a', 'c']\n",
        "d = [3.3, 'e', 'c', 3]\n",
        "\n",
        "a.sort()\n",
        "print(a) # 정수형만 포함된 데이터는 정렬 가능\n",
        "\n",
        "b.sort()\n",
        "print(b) # 정수, 실수 혼합의 숫자형 데이터는 정렬 가능 \n",
        "\n",
        "c.sort()\n",
        "print(c) # 문자열로만 구성된 데이터 역시 unicode값으로 정렬 가능\n",
        "\n",
        "d.sort()\n",
        "print(d) # 문자열, 숫자형 혼합 데이터는 정렬 불가능"
      ],
      "execution_count": null,
      "outputs": [
        {
          "name": "stdout",
          "output_type": "stream",
          "text": [
            "[1, 2, 3, 4, 5]\n",
            "[1, 3.3, 8.9, 1000]\n",
            "['a', 'b', 'c', 'd', 'e']\n"
          ]
        },
        {
          "ename": "TypeError",
          "evalue": "'<' not supported between instances of 'str' and 'float'",
          "output_type": "error",
          "traceback": [
            "\u001b[0;31m------------------------------------------------\u001b[0m",
            "\u001b[0;31mTypeError\u001b[0m      Traceback (most recent call last)",
            "\u001b[0;32m<ipython-input-49-818525bcbb8c>\u001b[0m in \u001b[0;36m<module>\u001b[0;34m()\u001b[0m\n\u001b[1;32m     13\u001b[0m \u001b[0mprint\u001b[0m\u001b[0;34m(\u001b[0m\u001b[0mc\u001b[0m\u001b[0;34m)\u001b[0m\u001b[0;34m\u001b[0m\u001b[0;34m\u001b[0m\u001b[0m\n\u001b[1;32m     14\u001b[0m \u001b[0;34m\u001b[0m\u001b[0m\n\u001b[0;32m---> 15\u001b[0;31m \u001b[0md\u001b[0m\u001b[0;34m.\u001b[0m\u001b[0msort\u001b[0m\u001b[0;34m(\u001b[0m\u001b[0;34m)\u001b[0m\u001b[0;34m\u001b[0m\u001b[0;34m\u001b[0m\u001b[0m\n\u001b[0m\u001b[1;32m     16\u001b[0m \u001b[0mprint\u001b[0m\u001b[0;34m(\u001b[0m\u001b[0md\u001b[0m\u001b[0;34m)\u001b[0m\u001b[0;34m\u001b[0m\u001b[0;34m\u001b[0m\u001b[0m\n",
            "\u001b[0;31mTypeError\u001b[0m: '<' not supported between instances of 'str' and 'float'"
          ]
        }
      ]
    },
    {
      "cell_type": "markdown",
      "metadata": {
        "id": "ozRrJYkuJtef"
      },
      "source": [
        "<code>reverse = True</code> 옵션으로 내림차순으로 정렬이 가능합니다."
      ]
    },
    {
      "cell_type": "code",
      "metadata": {
        "id": "36KIxCuPJteg",
        "outputId": "2d1ac9dc-530e-408d-89fd-5cd0c0f304bd"
      },
      "source": [
        "a = [1, 3, 5, 2, 4]\n",
        "a.sort(reverse = True) # 내림차순 정렬\n",
        "print(a)"
      ],
      "execution_count": null,
      "outputs": [
        {
          "name": "stdout",
          "output_type": "stream",
          "text": [
            "[5, 4, 3, 2, 1]\n"
          ]
        }
      ]
    },
    {
      "cell_type": "code",
      "metadata": {
        "id": "4rG2bXGzJteg",
        "outputId": "2220b461-6d71-4ad5-e638-608206636ed4"
      },
      "source": [
        "alist = [1, 3.3, 'python', True]\n",
        "alist.reverse() # 뒤집기\n",
        "print(alist)"
      ],
      "execution_count": null,
      "outputs": [
        {
          "name": "stdout",
          "output_type": "stream",
          "text": [
            "[True, 'python', 3.3, 1]\n"
          ]
        }
      ]
    },
    {
      "cell_type": "markdown",
      "metadata": {
        "id": "AeDlMSRwM5Z9"
      },
      "source": [
        "### Tuple\n",
        "\n",
        "튜플은 리스트와 같은 다수의 데이터를 담을 수 있는 데이터입니다.\n",
        "* 리스트는 mutable 객체인 반면에, 튜플은 변할 수 없는 immutable 객체입니다.\n",
        "* 튜플은 변형에 관련된 지원하는 내장 명령어가 하나도 없습니다.\n",
        "* 튜플은 파이썬에서 소괄호 ()로 표현합니다."
      ]
    },
    {
      "cell_type": "code",
      "metadata": {
        "colab": {
          "base_uri": "https://localhost:8080/"
        },
        "id": "NvP9-5yAM6HU",
        "outputId": "34dd2a22-174b-49ec-de32-b7f339eed98d"
      },
      "source": [
        "atuple = ()\n",
        "print(type(atuple)) # 비어있는 튜플\n",
        "print(atuple)"
      ],
      "execution_count": 1,
      "outputs": [
        {
          "output_type": "stream",
          "name": "stdout",
          "text": [
            "<class 'tuple'>\n",
            "()\n"
          ]
        }
      ]
    },
    {
      "cell_type": "markdown",
      "metadata": {
        "id": "3nX-n-MANjyB"
      },
      "source": [
        "tuple()을 활용하여 비어있는 튜플을 생성할 수 있습니다.\n",
        "* str(), int()와 같이 tuple()는 다른 iterable 데이터를 리스트로 변환시킬 수 있습니다.\n",
        "\n",
        "iterable은 리스트, 튜플, 문자열과 같이 \"여러 요소/멤버들\"을 가지고 있는 데이터를 의미합니다."
      ]
    },
    {
      "cell_type": "code",
      "metadata": {
        "colab": {
          "base_uri": "https://localhost:8080/"
        },
        "id": "uS6UjjWSNd-S",
        "outputId": "ec876039-8de6-4ead-ab4e-44e2e5cb4590"
      },
      "source": [
        "btuple = tuple()\n",
        "clist = [1, 2, 3, 4, 5]\n",
        "print(type(btuple))\n",
        "print(btuple)\n",
        "print(tuple(clist), type(tuple(clist)))"
      ],
      "execution_count": 3,
      "outputs": [
        {
          "output_type": "stream",
          "name": "stdout",
          "text": [
            "<class 'tuple'>\n",
            "()\n",
            "(1, 2, 3, 4, 5) <class 'tuple'>\n"
          ]
        }
      ]
    },
    {
      "cell_type": "markdown",
      "metadata": {
        "id": "A4kIc0q8NxBX"
      },
      "source": [
        "\"단 하나의 요소\"를 담긴 튜플을 만들 때에는 ,(쉼표)를 넣어주어야 합니다.\n",
        "* (1)은 괄호 안에 있는 정수로 판단하기 떄문입니다."
      ]
    },
    {
      "cell_type": "code",
      "metadata": {
        "colab": {
          "base_uri": "https://localhost:8080/"
        },
        "id": "Y5DWQYY1Nf65",
        "outputId": "386e0333-53f3-41a5-8114-43e6606e50c6"
      },
      "source": [
        "a = (1)\n",
        "b = (1,)\n",
        "print(a, type(a))\n",
        "print(b, type(b))"
      ],
      "execution_count": 4,
      "outputs": [
        {
          "output_type": "stream",
          "name": "stdout",
          "text": [
            "1 <class 'int'>\n",
            "(1,) <class 'tuple'>\n"
          ]
        }
      ]
    },
    {
      "cell_type": "markdown",
      "metadata": {
        "id": "82EBVHheN-Gw"
      },
      "source": [
        "#### Tuple Operations\n",
        "튜플도 리스트와 같이 두가지 연산이 가능합니다: \n",
        "- <strong>+</strong> : 튜플과 튜플을 결합하여 새로운 튜플로 반환합니다.\n",
        "- <strong>*</strong> : 튜플의 항목을 뒤에 n번 반복하여 결합합니다."
      ]
    },
    {
      "cell_type": "code",
      "metadata": {
        "colab": {
          "base_uri": "https://localhost:8080/"
        },
        "id": "opKpRGQjN76b",
        "outputId": "ee26013b-1f2e-4123-ab06-f91792ab3cb7"
      },
      "source": [
        "atuple = (1, 2, 3)\n",
        "btuple = (4, 5, 6)\n",
        "conc_tuple = atuple + btuple # (1, 2, 3)의 항목과 (4, 5, 6)항목을 결합하여 새로운 튜플로 생성\n",
        "print(conc_tuple)"
      ],
      "execution_count": 5,
      "outputs": [
        {
          "output_type": "stream",
          "name": "stdout",
          "text": [
            "(1, 2, 3, 4, 5, 6)\n"
          ]
        }
      ]
    },
    {
      "cell_type": "code",
      "metadata": {
        "colab": {
          "base_uri": "https://localhost:8080/"
        },
        "id": "LZjF5WwrOBRK",
        "outputId": "b53ff5d5-b8c7-4db4-df98-45b40c229183"
      },
      "source": [
        "atuple = atuple * 3 # (1, 2, 3) 항목을 3번 반복해서 결합\n",
        "print(atuple)"
      ],
      "execution_count": 6,
      "outputs": [
        {
          "output_type": "stream",
          "name": "stdout",
          "text": [
            "(1, 2, 3, 1, 2, 3, 1, 2, 3)\n"
          ]
        }
      ]
    },
    {
      "cell_type": "markdown",
      "metadata": {
        "id": "W3CRFMbxODtF"
      },
      "source": [
        "#### Sequence\n",
        "리스트와 동일하게 indexing과 slicing이 가능합니다.\n",
        "- <code>indexing</code> : 순번(위치)로 객체의 멤버를 반환하는 것.\n",
        "- <code>slicing </code> : 객체의 멤버들을 부분으로 잘라 반환하는 것."
      ]
    },
    {
      "cell_type": "code",
      "metadata": {
        "colab": {
          "base_uri": "https://localhost:8080/"
        },
        "id": "ftTEzA-JOCwb",
        "outputId": "c39161ae-2b11-4baa-c85a-8442e0cc65f2"
      },
      "source": [
        "atuple = (1, 2, 3, 4, 5)\n",
        "print(atuple[0]) # 0번째 항목 반환 \n",
        "print(atuple[4]) # 4번째 항목 반환"
      ],
      "execution_count": 7,
      "outputs": [
        {
          "output_type": "stream",
          "name": "stdout",
          "text": [
            "1\n",
            "5\n"
          ]
        }
      ]
    },
    {
      "cell_type": "code",
      "metadata": {
        "colab": {
          "base_uri": "https://localhost:8080/"
        },
        "id": "eKy6mYzjOJle",
        "outputId": "3def026f-4d75-476c-bbe5-31694963e113"
      },
      "source": [
        "print(atuple[:3]) # 0번째부터 2번째 항목까지 잘라서 반환"
      ],
      "execution_count": 8,
      "outputs": [
        {
          "output_type": "stream",
          "name": "stdout",
          "text": [
            "(1, 2, 3)\n"
          ]
        }
      ]
    },
    {
      "cell_type": "markdown",
      "metadata": {
        "id": "TWCidbIeOL3S"
      },
      "source": [
        "#### Immutable Data\n",
        "\n",
        "불변의 데이터는 요소가 변할 수 없습니다."
      ]
    },
    {
      "cell_type": "code",
      "metadata": {
        "colab": {
          "base_uri": "https://localhost:8080/",
          "height": 195
        },
        "id": "4kb0qIdnOLKt",
        "outputId": "834d3a35-15b5-4da5-e44a-1bfa81031eda"
      },
      "source": [
        "atuple = (1, 2, 3, 4, 5)\n",
        "atuple[0] = 6 # atuple의 0번째 항목에 6 할당\n",
        "print(atuple)"
      ],
      "execution_count": 9,
      "outputs": [
        {
          "output_type": "error",
          "ename": "TypeError",
          "evalue": "ignored",
          "traceback": [
            "\u001b[0;31m---------------------------------------------------------------------------\u001b[0m",
            "\u001b[0;31mTypeError\u001b[0m                                 Traceback (most recent call last)",
            "\u001b[0;32m<ipython-input-9-380a1e4d5eed>\u001b[0m in \u001b[0;36m<module>\u001b[0;34m()\u001b[0m\n\u001b[1;32m      1\u001b[0m \u001b[0matuple\u001b[0m \u001b[0;34m=\u001b[0m \u001b[0;34m(\u001b[0m\u001b[0;36m1\u001b[0m\u001b[0;34m,\u001b[0m \u001b[0;36m2\u001b[0m\u001b[0;34m,\u001b[0m \u001b[0;36m3\u001b[0m\u001b[0;34m,\u001b[0m \u001b[0;36m4\u001b[0m\u001b[0;34m,\u001b[0m \u001b[0;36m5\u001b[0m\u001b[0;34m)\u001b[0m\u001b[0;34m\u001b[0m\u001b[0;34m\u001b[0m\u001b[0m\n\u001b[0;32m----> 2\u001b[0;31m \u001b[0matuple\u001b[0m\u001b[0;34m[\u001b[0m\u001b[0;36m0\u001b[0m\u001b[0;34m]\u001b[0m \u001b[0;34m=\u001b[0m \u001b[0;36m6\u001b[0m \u001b[0;31m# atuple의 0번째 항목에 6 재할당 (reassign)\u001b[0m\u001b[0;34m\u001b[0m\u001b[0;34m\u001b[0m\u001b[0m\n\u001b[0m\u001b[1;32m      3\u001b[0m \u001b[0mprint\u001b[0m\u001b[0;34m(\u001b[0m\u001b[0matuple\u001b[0m\u001b[0;34m)\u001b[0m\u001b[0;34m\u001b[0m\u001b[0;34m\u001b[0m\u001b[0m\n",
            "\u001b[0;31mTypeError\u001b[0m: 'tuple' object does not support item assignment"
          ]
        }
      ]
    },
    {
      "cell_type": "markdown",
      "metadata": {
        "id": "QuAqW96cOTpP"
      },
      "source": [
        "위와 같이 요소를 바꾸려고 했을 떄, 에러가 발생하는 것을 볼 수 있습니다."
      ]
    }
  ]
}