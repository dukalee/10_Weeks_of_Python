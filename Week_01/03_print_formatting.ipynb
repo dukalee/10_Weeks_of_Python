{
  "nbformat": 4,
  "nbformat_minor": 0,
  "metadata": {
    "colab": {
      "name": "03.print_formatting.ipynb",
      "provenance": [],
      "toc_visible": true,
      "authorship_tag": "ABX9TyPXmcI7txngLSaemqOA5qeO",
      "include_colab_link": true
    },
    "kernelspec": {
      "name": "python3",
      "display_name": "Python 3"
    },
    "language_info": {
      "name": "python"
    }
  },
  "cells": [
    {
      "cell_type": "markdown",
      "metadata": {
        "id": "view-in-github",
        "colab_type": "text"
      },
      "source": [
        "<a href=\"https://colab.research.google.com/github/dukalee/10_Weeks_of_Python/blob/main/Week_01/03_print_formatting.ipynb\" target=\"_parent\"><img src=\"https://colab.research.google.com/assets/colab-badge.svg\" alt=\"Open In Colab\"/></a>"
      ]
    },
    {
      "cell_type": "markdown",
      "metadata": {
        "id": "awQCgA9AsTbh"
      },
      "source": [
        "### Print Formatting\n",
        "\n",
        "print formatting은 변수를 활용하여 특정 문장들을 손쉽게 출력하기 위해 활용하는 포맷입니다."
      ]
    },
    {
      "cell_type": "markdown",
      "metadata": {
        "id": "NCb6zCaWDz3r"
      },
      "source": [
        "#### Old (C type) Formattin\n",
        "C에서 파생된 언어인만큼, C에서 활용하던 방법과 비슷한 형식으로 포매팅을 할 수 있습니다.\n",
        "\n",
        "Pro\n",
        "* C언어에 익숙한 경우, 활용이 편할 수 있습니다.\n",
        "* numpy, matplotlib등 C의 라이브러리를 활용하는 경우, 해당 포매팅 형식을 알아야 할 필요가 있습니다. \n",
        "\n",
        "Con\n",
        "* Dynamic Programming 언어인 파이썬은 변수가 고정적인 데이터 타입으로 한정되지 않으므로, 굳이 변수의 데이터 타입을 한정지어줄 필요가 없습니다."
      ]
    },
    {
      "cell_type": "code",
      "metadata": {
        "colab": {
          "base_uri": "https://localhost:8080/"
        },
        "id": "R29qazYyE5Mh",
        "outputId": "5412b4b9-b8d3-4834-9b2b-dc7a2308b7ee"
      },
      "source": [
        "x = 3\n",
        "print(\"single variable : %d\" %x)"
      ],
      "execution_count": 2,
      "outputs": [
        {
          "output_type": "stream",
          "name": "stdout",
          "text": [
            "single variable : 3\n"
          ]
        }
      ]
    },
    {
      "cell_type": "code",
      "metadata": {
        "colab": {
          "base_uri": "https://localhost:8080/"
        },
        "id": "j3SYvURZsS49",
        "outputId": "fd74eb9b-87c7-4f2e-a0ec-1ed7c760df88"
      },
      "source": [
        "year = 2021\n",
        "language = \"python\"\n",
        "\n",
        "print(\"I am learning %s in %d\" %(language, year))"
      ],
      "execution_count": 1,
      "outputs": [
        {
          "output_type": "stream",
          "name": "stdout",
          "text": [
            "I am learning python in 2021\n"
          ]
        }
      ]
    },
    {
      "cell_type": "code",
      "metadata": {
        "colab": {
          "base_uri": "https://localhost:8080/"
        },
        "id": "Gx7PHcoEFpmc",
        "outputId": "a8f7ceaf-048b-4aae-ec85-6006b816f212"
      },
      "source": [
        "pi = 3.145\n",
        "print(\"PI to 1 decimal place : %.1f\" %pi)"
      ],
      "execution_count": 3,
      "outputs": [
        {
          "output_type": "stream",
          "name": "stdout",
          "text": [
            "PI to 1 decimal place : 3.1\n"
          ]
        }
      ]
    },
    {
      "cell_type": "markdown",
      "metadata": {
        "id": "HoA-FJoaE5rA"
      },
      "source": [
        "* 문자열 : %s\n",
        "* 정수 : %d\n",
        "* 실수 : %f\n",
        "\n",
        "등으로 표현합니다"
      ]
    },
    {
      "cell_type": "markdown",
      "metadata": {
        "id": "rkUF3KEnD15q"
      },
      "source": [
        "#### .format()\n",
        "파이썬 버젼 2.6~3.6까지 활용되던 포매팅 방식입니다.\n",
        "* 변수가 대입될 자리를 {}로 자리를 잡아둡니다.\n",
        "* 해당 자리에 들어갈 변수를 \"문자열\".format()안에 순서대로 전달합니다.\n",
        "\n",
        "장점\n",
        "* old style보다 처리 속도가 더 빠릅니다.\n",
        "* 더 이상 변수의 데이터 타입을 고려하지 않아도 됩니다."
      ]
    },
    {
      "cell_type": "code",
      "metadata": {
        "colab": {
          "base_uri": "https://localhost:8080/"
        },
        "id": "U6HOdJSCD533",
        "outputId": "d69492a3-518a-4e97-c939-a898a3679f52"
      },
      "source": [
        "x = 3\n",
        "print(\"single variable : {}\".format(x))"
      ],
      "execution_count": 4,
      "outputs": [
        {
          "output_type": "stream",
          "name": "stdout",
          "text": [
            "single variable : 3\n"
          ]
        }
      ]
    },
    {
      "cell_type": "code",
      "metadata": {
        "colab": {
          "base_uri": "https://localhost:8080/"
        },
        "id": "S4ftep3CFyhg",
        "outputId": "085580b4-7f15-48d3-bfdc-7875c9c8f28c"
      },
      "source": [
        "year = 2021\n",
        "language = \"python\"\n",
        "\n",
        "print(\"I am learning {} in {}\".format(language, year))"
      ],
      "execution_count": 5,
      "outputs": [
        {
          "output_type": "stream",
          "name": "stdout",
          "text": [
            "I am learning python in 2021\n"
          ]
        }
      ]
    },
    {
      "cell_type": "code",
      "metadata": {
        "colab": {
          "base_uri": "https://localhost:8080/"
        },
        "id": "W3_4Z61-F2Mk",
        "outputId": "82745731-858d-478a-938c-9e932b3e0739"
      },
      "source": [
        "pi = 3.145\n",
        "print(\"PI to 1 decimal place : {:.1f}\".format(pi))"
      ],
      "execution_count": 7,
      "outputs": [
        {
          "output_type": "stream",
          "name": "stdout",
          "text": [
            "PI to 1 decimal place : 3.1\n"
          ]
        }
      ]
    },
    {
      "cell_type": "markdown",
      "metadata": {
        "id": "yTGk2lf9D6VZ"
      },
      "source": [
        "#### f-style Formatting\n",
        "파이썬 3.6부터 새롭게 추가된 포매팅 방식입니다.\n",
        "* 기존의 방식에서 앞에 f를 추가하고, {}안에 직접 값을 전달하는 방식입니다.\n",
        "\n",
        "장점\n",
        "* .format() 형식보다 처리 속도가 더 빠릅니다."
      ]
    },
    {
      "cell_type": "code",
      "metadata": {
        "colab": {
          "base_uri": "https://localhost:8080/"
        },
        "id": "dS2-aZuiD79o",
        "outputId": "50811f22-b320-49d8-fd9c-f9022cc96f05"
      },
      "source": [
        "x = 3\n",
        "print(f\"single variable : {x}\")"
      ],
      "execution_count": 8,
      "outputs": [
        {
          "output_type": "stream",
          "name": "stdout",
          "text": [
            "single variable : 3\n"
          ]
        }
      ]
    },
    {
      "cell_type": "code",
      "metadata": {
        "colab": {
          "base_uri": "https://localhost:8080/"
        },
        "id": "r0sfmaQZHehE",
        "outputId": "bb396a1c-18bf-4107-e657-9a7027994986"
      },
      "source": [
        "year = 2021\n",
        "language = \"python\"\n",
        "\n",
        "print(f\"I am learning {language} in {year}\")"
      ],
      "execution_count": 9,
      "outputs": [
        {
          "output_type": "stream",
          "name": "stdout",
          "text": [
            "I am learning python in 2021\n"
          ]
        }
      ]
    },
    {
      "cell_type": "code",
      "metadata": {
        "colab": {
          "base_uri": "https://localhost:8080/"
        },
        "id": "R04pcaEPHigY",
        "outputId": "c98b520b-a92d-4213-9b87-258f5f73f910"
      },
      "source": [
        "pi = 3.145\n",
        "print(f\"PI to 1 decimal place : {pi:.1f}\")"
      ],
      "execution_count": 10,
      "outputs": [
        {
          "output_type": "stream",
          "name": "stdout",
          "text": [
            "PI to 1 decimal place : 3.1\n"
          ]
        }
      ]
    },
    {
      "cell_type": "markdown",
      "metadata": {
        "id": "jqPviE7WGyW6"
      },
      "source": [
        "##### Extra style formatting"
      ]
    },
    {
      "cell_type": "markdown",
      "metadata": {
        "id": "G5vhb3CtHsjd"
      },
      "source": [
        "\"\" 또는 ''를 출력하려면 이스케이프 문자 (\\\", \\')를 활용합니다."
      ]
    },
    {
      "cell_type": "code",
      "metadata": {
        "colab": {
          "base_uri": "https://localhost:8080/"
        },
        "id": "Rf822kjIG3ae",
        "outputId": "79ac5fc7-d95a-491c-a6a2-d11d14abf64c"
      },
      "source": [
        "language = \"python\"\n",
        "\n",
        "print(f\"He said, \\\"{language}\\\" is fun! \")"
      ],
      "execution_count": 12,
      "outputs": [
        {
          "output_type": "stream",
          "name": "stdout",
          "text": [
            "He said, \"python\" is fun! \n"
          ]
        }
      ]
    },
    {
      "cell_type": "markdown",
      "metadata": {
        "id": "OLr0L31DH5mF"
      },
      "source": [
        "중괄호를 출력해야한다면, 겹쳐서 활용합니다."
      ]
    },
    {
      "cell_type": "code",
      "metadata": {
        "colab": {
          "base_uri": "https://localhost:8080/"
        },
        "id": "LsXF0L2nH2Gc",
        "outputId": "7cc338ab-477c-46e1-878f-b30028e322b4"
      },
      "source": [
        "language = \"python\"\n",
        "\n",
        "print(f\"He said, {{{language}}} is fun! \")"
      ],
      "execution_count": 15,
      "outputs": [
        {
          "output_type": "stream",
          "name": "stdout",
          "text": [
            "He said, {python} is fun! \n"
          ]
        }
      ]
    },
    {
      "cell_type": "markdown",
      "metadata": {
        "id": "62uNsaA6IG52"
      },
      "source": [
        "총 몇칸을 채워 출력하고자 한다면, {:칸수}의 형태로 활용합니다.\n",
        "* \\> : 우측정렬\n",
        "* < : 촤측정렬\n",
        "* ^ : 중심정렬"
      ]
    },
    {
      "cell_type": "code",
      "metadata": {
        "colab": {
          "base_uri": "https://localhost:8080/"
        },
        "id": "SMBqeD3lH-VT",
        "outputId": "734affa7-1df3-43b6-f4a8-58071483ae35"
      },
      "source": [
        "weight = 66\n",
        "height = 178\n",
        "age = 32\n",
        "\n",
        "print(f\"Weight : {weight:10}\")\n",
        "print(f\"Height : {height:^10}\")\n",
        "print(f\"age    : {age:<10}\")"
      ],
      "execution_count": 19,
      "outputs": [
        {
          "output_type": "stream",
          "name": "stdout",
          "text": [
            "Weight :         66\n",
            "Height :    178    \n",
            "age    : 32        \n"
          ]
        }
      ]
    },
    {
      "cell_type": "markdown",
      "metadata": {
        "id": "6KR8D3yfJRL3"
      },
      "source": [
        "실수는 표현하고싶은 자리까지를 {:.자리수f}의 형태로 활용합니다.\n",
        "* 반올림을 합니다."
      ]
    },
    {
      "cell_type": "code",
      "metadata": {
        "colab": {
          "base_uri": "https://localhost:8080/"
        },
        "id": "njUEsoFGIYZE",
        "outputId": "1c9fa072-a2b5-491f-9539-bb642f69bd14"
      },
      "source": [
        "x = 1.5678\n",
        "\n",
        "print(f\"x = {x:.2f}\")"
      ],
      "execution_count": 21,
      "outputs": [
        {
          "output_type": "stream",
          "name": "stdout",
          "text": [
            "x = 1.57\n"
          ]
        }
      ]
    }
  ]
}